{
 "cells": [
  {
   "cell_type": "code",
   "execution_count": 91,
   "metadata": {},
   "outputs": [
    {
     "name": "stdout",
     "output_type": "stream",
     "text": [
      "Requirement already satisfied: langchain_groq in /Volumes/Omkar's SSD/Projects/VisionArc/Product/prototype/src/backend/.venv/lib/python3.12/site-packages (0.2.2)\n",
      "Requirement already satisfied: groq<1,>=0.4.1 in /Volumes/Omkar's SSD/Projects/VisionArc/Product/prototype/src/backend/.venv/lib/python3.12/site-packages (from langchain_groq) (0.13.1)\n",
      "Requirement already satisfied: langchain-core<0.4.0,>=0.3.27 in /Volumes/Omkar's SSD/Projects/VisionArc/Product/prototype/src/backend/.venv/lib/python3.12/site-packages (from langchain_groq) (0.3.28)\n",
      "Requirement already satisfied: anyio<5,>=3.5.0 in /Volumes/Omkar's SSD/Projects/VisionArc/Product/prototype/src/backend/.venv/lib/python3.12/site-packages (from groq<1,>=0.4.1->langchain_groq) (4.7.0)\n",
      "Requirement already satisfied: distro<2,>=1.7.0 in /Volumes/Omkar's SSD/Projects/VisionArc/Product/prototype/src/backend/.venv/lib/python3.12/site-packages (from groq<1,>=0.4.1->langchain_groq) (1.9.0)\n",
      "Requirement already satisfied: httpx<1,>=0.23.0 in /Volumes/Omkar's SSD/Projects/VisionArc/Product/prototype/src/backend/.venv/lib/python3.12/site-packages (from groq<1,>=0.4.1->langchain_groq) (0.28.1)\n",
      "Requirement already satisfied: pydantic<3,>=1.9.0 in /Volumes/Omkar's SSD/Projects/VisionArc/Product/prototype/src/backend/.venv/lib/python3.12/site-packages (from groq<1,>=0.4.1->langchain_groq) (2.10.4)\n",
      "Requirement already satisfied: sniffio in /Volumes/Omkar's SSD/Projects/VisionArc/Product/prototype/src/backend/.venv/lib/python3.12/site-packages (from groq<1,>=0.4.1->langchain_groq) (1.3.1)\n",
      "Requirement already satisfied: typing-extensions<5,>=4.10 in /Volumes/Omkar's SSD/Projects/VisionArc/Product/prototype/src/backend/.venv/lib/python3.12/site-packages (from groq<1,>=0.4.1->langchain_groq) (4.12.2)\n",
      "Requirement already satisfied: PyYAML>=5.3 in /Volumes/Omkar's SSD/Projects/VisionArc/Product/prototype/src/backend/.venv/lib/python3.12/site-packages (from langchain-core<0.4.0,>=0.3.27->langchain_groq) (6.0.2)\n",
      "Requirement already satisfied: jsonpatch<2.0,>=1.33 in /Volumes/Omkar's SSD/Projects/VisionArc/Product/prototype/src/backend/.venv/lib/python3.12/site-packages (from langchain-core<0.4.0,>=0.3.27->langchain_groq) (1.33)\n",
      "Requirement already satisfied: langsmith<0.3,>=0.1.125 in /Volumes/Omkar's SSD/Projects/VisionArc/Product/prototype/src/backend/.venv/lib/python3.12/site-packages (from langchain-core<0.4.0,>=0.3.27->langchain_groq) (0.2.4)\n",
      "Requirement already satisfied: packaging<25,>=23.2 in /Volumes/Omkar's SSD/Projects/VisionArc/Product/prototype/src/backend/.venv/lib/python3.12/site-packages (from langchain-core<0.4.0,>=0.3.27->langchain_groq) (24.2)\n",
      "Requirement already satisfied: tenacity!=8.4.0,<10.0.0,>=8.1.0 in /Volumes/Omkar's SSD/Projects/VisionArc/Product/prototype/src/backend/.venv/lib/python3.12/site-packages (from langchain-core<0.4.0,>=0.3.27->langchain_groq) (9.0.0)\n",
      "Requirement already satisfied: idna>=2.8 in /Volumes/Omkar's SSD/Projects/VisionArc/Product/prototype/src/backend/.venv/lib/python3.12/site-packages (from anyio<5,>=3.5.0->groq<1,>=0.4.1->langchain_groq) (3.10)\n",
      "Requirement already satisfied: certifi in /Volumes/Omkar's SSD/Projects/VisionArc/Product/prototype/src/backend/.venv/lib/python3.12/site-packages (from httpx<1,>=0.23.0->groq<1,>=0.4.1->langchain_groq) (2024.12.14)\n",
      "Requirement already satisfied: httpcore==1.* in /Volumes/Omkar's SSD/Projects/VisionArc/Product/prototype/src/backend/.venv/lib/python3.12/site-packages (from httpx<1,>=0.23.0->groq<1,>=0.4.1->langchain_groq) (1.0.7)\n",
      "Requirement already satisfied: h11<0.15,>=0.13 in /Volumes/Omkar's SSD/Projects/VisionArc/Product/prototype/src/backend/.venv/lib/python3.12/site-packages (from httpcore==1.*->httpx<1,>=0.23.0->groq<1,>=0.4.1->langchain_groq) (0.14.0)\n",
      "Requirement already satisfied: jsonpointer>=1.9 in /Volumes/Omkar's SSD/Projects/VisionArc/Product/prototype/src/backend/.venv/lib/python3.12/site-packages (from jsonpatch<2.0,>=1.33->langchain-core<0.4.0,>=0.3.27->langchain_groq) (3.0.0)\n",
      "Requirement already satisfied: orjson<4.0.0,>=3.9.14 in /Volumes/Omkar's SSD/Projects/VisionArc/Product/prototype/src/backend/.venv/lib/python3.12/site-packages (from langsmith<0.3,>=0.1.125->langchain-core<0.4.0,>=0.3.27->langchain_groq) (3.10.12)\n",
      "Requirement already satisfied: requests<3,>=2 in /Volumes/Omkar's SSD/Projects/VisionArc/Product/prototype/src/backend/.venv/lib/python3.12/site-packages (from langsmith<0.3,>=0.1.125->langchain-core<0.4.0,>=0.3.27->langchain_groq) (2.32.3)\n",
      "Requirement already satisfied: requests-toolbelt<2.0.0,>=1.0.0 in /Volumes/Omkar's SSD/Projects/VisionArc/Product/prototype/src/backend/.venv/lib/python3.12/site-packages (from langsmith<0.3,>=0.1.125->langchain-core<0.4.0,>=0.3.27->langchain_groq) (1.0.0)\n",
      "Requirement already satisfied: annotated-types>=0.6.0 in /Volumes/Omkar's SSD/Projects/VisionArc/Product/prototype/src/backend/.venv/lib/python3.12/site-packages (from pydantic<3,>=1.9.0->groq<1,>=0.4.1->langchain_groq) (0.7.0)\n",
      "Requirement already satisfied: pydantic-core==2.27.2 in /Volumes/Omkar's SSD/Projects/VisionArc/Product/prototype/src/backend/.venv/lib/python3.12/site-packages (from pydantic<3,>=1.9.0->groq<1,>=0.4.1->langchain_groq) (2.27.2)\n",
      "Requirement already satisfied: charset-normalizer<4,>=2 in /Volumes/Omkar's SSD/Projects/VisionArc/Product/prototype/src/backend/.venv/lib/python3.12/site-packages (from requests<3,>=2->langsmith<0.3,>=0.1.125->langchain-core<0.4.0,>=0.3.27->langchain_groq) (3.4.0)\n",
      "Requirement already satisfied: urllib3<3,>=1.21.1 in /Volumes/Omkar's SSD/Projects/VisionArc/Product/prototype/src/backend/.venv/lib/python3.12/site-packages (from requests<3,>=2->langsmith<0.3,>=0.1.125->langchain-core<0.4.0,>=0.3.27->langchain_groq) (2.2.3)\n",
      "Note: you may need to restart the kernel to use updated packages.\n"
     ]
    }
   ],
   "source": [
    "%pip install langchain_groq\n",
    "import os\n",
    "os.environ[\"API_KEY\"] = \"gsk_8n70dfSs6KSJoGUtSbXQWGdyb3FYCKtlCzAsewlhDuu6anU2kEYmeee\""
   ]
  },
  {
   "cell_type": "code",
   "execution_count": 92,
   "metadata": {},
   "outputs": [],
   "source": [
    "from langchain_groq import ChatGroq\n",
    "llm=ChatGroq(model_name=\"llama3-70b-8192\",api_key=os.environ[\"API_KEY\"])"
   ]
  },
  {
   "cell_type": "code",
   "execution_count": 93,
   "metadata": {},
   "outputs": [],
   "source": [
    "from langchain_core.messages import SystemMessage, RemoveMessage\n",
    "from langgraph.checkpoint.memory import MemorySaver\n",
    "from langchain_core.messages import HumanMessage\n",
    "from langgraph.graph import MessagesState, StateGraph, START, END\n",
    "from typing import Literal"
   ]
  },
  {
   "cell_type": "code",
   "execution_count": 94,
   "metadata": {},
   "outputs": [],
   "source": [
    "memory = MemorySaver()"
   ]
  },
  {
   "cell_type": "code",
   "execution_count": 95,
   "metadata": {},
   "outputs": [],
   "source": [
    "from langgraph.graph import MessagesState\n",
    "\n",
    "class StateService(MessagesState):\n",
    "  summary: str"
   ]
  },
  {
   "cell_type": "code",
   "execution_count": 96,
   "metadata": {},
   "outputs": [],
   "source": [
    "# Logic to handle the conversation\n",
    "def conversation(state: StateService):\n",
    "  # If a summary exists, we add this in as a system message\n",
    "  summary = state.get(\"summary\", \"\")\n",
    "  if summary:\n",
    "      system_message = f\"Summary of conversation earlier: {summary}\"\n",
    "      messages = [SystemMessage(content=system_message)] + state[\"messages\"]\n",
    "  else:\n",
    "      messages = state[\"messages\"]\n",
    "  response = llm.invoke(messages)\n",
    "  # We return a list, because this will get added to the existing list\n",
    "  return {\"messages\": [response]}"
   ]
  },
  {
   "cell_type": "code",
   "execution_count": 97,
   "metadata": {},
   "outputs": [],
   "source": [
    "# Logic for determining whether to end or summarize the conversation\n",
    "def should_continue(state: StateService) -> Literal[\"summarize_conversation\", \"agent\"]:\n",
    "  \"\"\"Return the next node to execute.\"\"\"\n",
    "  messages = state[\"messages\"]\n",
    "  # If there are more than six messages, then we summarize the conversation\n",
    "  if len(messages) > 6:\n",
    "      return \"summarize_conversation\"\n",
    "  # Otherwise we can just return agent process node\n",
    "  return \"agent\""
   ]
  },
  {
   "cell_type": "code",
   "execution_count": 98,
   "metadata": {},
   "outputs": [],
   "source": [
    "def summarize_conversation(state: StateService):\n",
    "    # First, we summarize the conversation\n",
    "    summary = state.get(\"summary\", \"\")\n",
    "    if summary:\n",
    "        # If a summary already exists, we use a different system prompt\n",
    "        # to summarize it than if one didn't\n",
    "        summary_message = (\n",
    "            f\"This is summary of the conversation to date: {summary}\\n\\n\"\n",
    "            \"Extend the summary by taking into account the new messages above:\"\n",
    "        )\n",
    "    else:\n",
    "        summary_message = \"Create a summary of the conversation above:\"\n",
    "\n",
    "    messages = state[\"messages\"] + [HumanMessage(content=summary_message)]\n",
    "    response = llm.invoke(messages)\n",
    "    # We now need to delete messages that we no longer want to show up\n",
    "    # I will delete all but the last two messages, but you can change this\n",
    "    delete_messages = [RemoveMessage(id=m.id) for m in state[\"messages\"][:-2]]\n",
    "    return {\"summary\": response.content, \"messages\": delete_messages}\n"
   ]
  },
  {
   "cell_type": "code",
   "execution_count": 99,
   "metadata": {},
   "outputs": [],
   "source": [
    "def call_agent(self, state: StateService):\n",
    "      # This is where you would call the agent\n",
    "      # For now, we just return the state\n",
    "      return state"
   ]
  },
  {
   "cell_type": "code",
   "execution_count": 100,
   "metadata": {},
   "outputs": [],
   "source": [
    "# Define a new graph\n",
    "workflow = StateGraph(StateService)\n"
   ]
  },
  {
   "cell_type": "code",
   "execution_count": 101,
   "metadata": {},
   "outputs": [],
   "source": [
    "def categorize_message(state: StateService):\n",
    "  messages = state[\"messages\"]\n",
    "  \n",
    "  # Add a system message to categorize the input\n",
    "  system_prompt = SystemMessage(content=\"\"\"Analyze the message and categorize it as one of:\n",
    "    1) A greeting - Any welcome, hello, hi, hey, or similar conversation starters\n",
    "    Examples:\n",
    "    - \"Hello, how are you?\"\n",
    "    - \"Hi there!\"\n",
    "    - \"Good morning, hope you're doing well\"\n",
    "    \n",
    "    2) Process-related - Any mention of workflows, processes, tasks, diagrams, BPMN, business operations, \n",
    "       or scenarios/situations that need to be modeled or analyzed from a process perspective\n",
    "    Examples:\n",
    "    - \"Can you help me model an order fulfillment process?\"\n",
    "    - \"I need to create a BPMN diagram for customer onboarding\"\n",
    "    - \"How do I optimize my invoice approval workflow?\"\n",
    "    \n",
    "    3) Off-topic - Anything not related to greetings or business processes\n",
    "    Examples:\n",
    "    - \"What's the weather like today?\"\n",
    "    - \"Can you recommend a good movie?\"\n",
    "    - \"Tell me about quantum physics\"\n",
    "    \n",
    "    Respond with just one category name: 'greeting', 'process', or 'offtopic'\"\"\")\n",
    "  \n",
    "  # Get categorization from LLM\n",
    "  response = llm.invoke([system_prompt] + messages)\n",
    "  \n",
    "  # Add the category as a system message that following nodes can use\n",
    "  category_message = SystemMessage(content=f\"Message category: {response.content}\")\n",
    "  \n",
    "  # Return updated state with the category message\n",
    "  return {\"messages\": [category_message]}"
   ]
  },
  {
   "cell_type": "code",
   "execution_count": 102,
   "metadata": {},
   "outputs": [],
   "source": [
    "def call_agent(state: StateService):\n",
    "  # This is where you would call the agent\n",
    "  # For now, we just return the state\n",
    "  return state\n",
    "  # pass"
   ]
  },
  {
   "cell_type": "code",
   "execution_count": 103,
   "metadata": {},
   "outputs": [],
   "source": [
    "def gateway(state: StateService):\n",
    "  # This is where you would call the gateway\n",
    "  # For now, we just return the state\n",
    "  return state\n",
    "  # pass"
   ]
  },
  {
   "cell_type": "code",
   "execution_count": 104,
   "metadata": {},
   "outputs": [],
   "source": [
    "def find_category(state: StateService):\n",
    "  messages = state[\"messages\"]\n",
    "  # Find the category message - it will be the first system message with \"Message category:\"\n",
    "  category_message = next(\n",
    "      (msg for msg in messages \n",
    "        if msg.type == \"system\" and \"Message category:\" in msg.content),\n",
    "      None\n",
    "  )\n",
    "\n",
    "  if category_message:\n",
    "    # Extract the category from the message content\n",
    "    category = category_message.content.split(\":\")[-1].strip()\n",
    "    return category\n",
    "  else:\n",
    "    return \"category not found\""
   ]
  },
  {
   "cell_type": "code",
   "execution_count": 105,
   "metadata": {},
   "outputs": [],
   "source": [
    "def handle_greeting(state: StateService):\n",
    "  context_prompt = (\n",
    "    \"You are a BPMN process modeling assistant. Greet warmly and explain your capabilities. \"\n",
    "    \"Keep it brief and friendly. Mention you can help create BPMN diagrams and model business processes.\"\n",
    "  )\n",
    "  # \"You are a BPMN process modeling assistant. Respond with a warm greeting and briefly mention \"\n",
    "  # \"that you can help create BPMN diagrams and model business processes. Keep it concise and friendly.\"\n",
    "  \n",
    "  # Create system and user messages\n",
    "  messages = [\n",
    "    SystemMessage(content=context_prompt),\n",
    "    state[\"messages\"][-1]  # Include the user's greeting\n",
    "  ]\n",
    "  \n",
    "  # Get response from LLM\n",
    "  response = llm.invoke(messages)\n",
    "  \n",
    "  # Return the LLM's response\n",
    "  return {\"messages\": [response]}"
   ]
  },
  {
   "cell_type": "code",
   "execution_count": 106,
   "metadata": {},
   "outputs": [],
   "source": [
    "def handle_offtopic(state: StateService):\n",
    "  context_prompt = (\n",
    "    \"Politely steer conversation towards BPMN modeling. Example: \"\n",
    "    \"'While I'd love to chat, I specialize in helping create BPMN \"\n",
    "    \"process diagrams. Would you like to model a business process?'\"\n",
    "  )\n",
    "  \n",
    "  messages = [\n",
    "    SystemMessage(content=context_prompt),\n",
    "    state[\"messages\"][-1]  # Include the user's message\n",
    "  ]\n",
    "  \n",
    "  response = llm.invoke(messages)\n",
    "  \n",
    "  return {\"messages\": [response]}"
   ]
  },
  {
   "cell_type": "code",
   "execution_count": 107,
   "metadata": {},
   "outputs": [],
   "source": [
    "def handler(state: StateService):\n",
    "  category = find_category(state)\n",
    "  # Handle different categories\n",
    "  if category == \"greeting\":\n",
    "      # Handle greeting flow\n",
    "      return handle_greeting(state)\n",
    "  else:\n",
    "      # Handle off-topic\n",
    "      return handle_offtopic(state)"
   ]
  },
  {
   "cell_type": "code",
   "execution_count": 117,
   "metadata": {},
   "outputs": [],
   "source": [
    "def should_return(state: StateService) -> Literal[\"categorize\", \"conversation\", \"handler\"]:\n",
    "    category = find_category(state)\n",
    "    \n",
    "    if category == \"category not found\":\n",
    "      return \"categorize\"\n",
    "      \n",
    "    elif category in [\"greeting\", \"offtopic\"]:\n",
    "      return \"handler\"\n",
    "    \n",
    "    elif category == \"process\":\n",
    "      return \"conversation\"\n",
    "  "
   ]
  },
  {
   "cell_type": "code",
   "execution_count": 120,
   "metadata": {},
   "outputs": [],
   "source": [
    "workflow = StateGraph(StateService)\n",
    "\n",
    "# Add the nodes\n",
    "\n",
    "# categorize node\n",
    "workflow.add_node(\"categorize\", categorize_message) # Categorize the message\n",
    "\n",
    "# conversation node\n",
    "workflow.add_node(\"conversation\", conversation) \n",
    "workflow.add_node(summarize_conversation) \n",
    "\n",
    "# gateway node\n",
    "workflow.add_node(\"gateway\", gateway) \n",
    "\n",
    "# handler node\n",
    "workflow.add_node(\"handler\", handler) \n",
    "\n",
    "# agent node\n",
    "workflow.add_node(\"agent\", call_agent)\n",
    "\n",
    "\n",
    "\n",
    "# Set the entrypoint as categorize\n",
    "workflow.add_edge(START, \"categorize\")\n",
    "\n",
    "workflow.add_edge(\"categorize\", \"gateway\")\n",
    "\n",
    "# We now add a conditional edge\n",
    "workflow.add_conditional_edges(\n",
    "    # First, we define the start node. We use `conversation`.\n",
    "    # This means these are the edges taken after the `conversation` node is called.\n",
    "    \"gateway\",\n",
    "    # Next, we pass in the function that will determine which node is called next.\n",
    "    should_return,\n",
    ")\n",
    "workflow.add_edge(\"handler\", END)\n",
    "\n",
    "# workflow.add_edge(\"gateway\", \"conversation\")\n",
    "\n",
    "\n",
    "\n",
    "# We now add a conditional edge\n",
    "workflow.add_conditional_edges(\n",
    "    # First, we define the start node. We use `conversation`.\n",
    "    # This means these are the edges taken after the `conversation` node is called.\n",
    "    \"conversation\",\n",
    "    # Next, we pass in the function that will determine which node is called next.\n",
    "    should_continue,\n",
    ")\n",
    "\n",
    "# We now add a normal edge from `summarize_conversation` to agent.\n",
    "# This means that after `summarize_conversation` is called, we pass/call agent.\n",
    "workflow.add_edge(\"summarize_conversation\", \"agent\")\n",
    "workflow.add_edge(\"agent\", END)\n",
    "\n",
    "# Finally, we compile it!\n",
    "app = workflow.compile(checkpointer=memory)"
   ]
  },
  {
   "cell_type": "code",
   "execution_count": 121,
   "metadata": {},
   "outputs": [
    {
     "data": {
      "image/png": "[encoded data removed]",
      "text/plain": [
       "<IPython.core.display.Image object>"
      ]
     },
     "metadata": {},
     "output_type": "display_data"
    }
   ],
   "source": [
    "from IPython.display import Image, display\n",
    "display(Image(app.get_graph().draw_mermaid_png()))"
   ]
  },
  {
   "cell_type": "code",
   "execution_count": 126,
   "metadata": {},
   "outputs": [],
   "source": [
    "config = {\"configurable\": {\"thread_id\": \"2\"}}"
   ]
  },
  {
   "cell_type": "code",
   "execution_count": 127,
   "metadata": {},
   "outputs": [],
   "source": [
    "def print_update(update):\n",
    "    for k, v in update.items():\n",
    "        for m in v[\"messages\"]:\n",
    "            m.pretty_print()\n",
    "        if \"summary\" in v:\n",
    "            print(v[\"summary\"])"
   ]
  },
  {
   "cell_type": "code",
   "execution_count": 130,
   "metadata": {},
   "outputs": [
    {
     "name": "stdout",
     "output_type": "stream",
     "text": [
      "================================\u001b[1m Human Message \u001b[0m=================================\n",
      "\n",
      "What is the radius of the earth?\n",
      "================================\u001b[1m System Message \u001b[0m================================\n",
      "\n",
      "Message category: offtopic\n",
      "================================\u001b[1m Human Message \u001b[0m=================================\n",
      "\n",
      "hi! I'm bob\n",
      "================================\u001b[1m System Message \u001b[0m================================\n",
      "\n",
      "Message category: greeting\n",
      "==================================\u001b[1m Ai Message \u001b[0m==================================\n",
      "\n",
      "Hello there! I'm thrilled to meet you!\n",
      "\n",
      "I'm your BPMN process modeling assistant, here to help you create stunning BPMN diagrams and model your business processes with ease. Whether you're a seasoned pro or just starting out, I'm here to guide you through the process (pun intended!).\n",
      "\n",
      "With my assistance, you can:\n",
      "\n",
      "Create clear and concise BPMN diagrams that visualize your business processes\n",
      "Model complex workflows and identify areas for improvement\n",
      "Collaborate with your team and stakeholders to refine your processes\n",
      "Analyze and optimize your business operations for maximum efficiency\n",
      "\n",
      "So, what's on your mind? Do you have a process you'd like to model or a diagram you'd like to create? I'm all ears (or rather, all keyboard)! Let's get started and make your business processes shine!\n",
      "================================\u001b[1m Human Message \u001b[0m=================================\n",
      "\n",
      "What is the radius of the earth?\n",
      "================================\u001b[1m System Message \u001b[0m================================\n",
      "\n",
      "Message category: offtopic\n",
      "==================================\u001b[1m Ai Message \u001b[0m==================================\n",
      "\n",
      "Hello there! I'm thrilled to meet you! I'm a BPMN process modeling assistant, here to help you create amazing business process models and diagrams. I'm all about making process modeling a breeze, so you can focus on what matters most - improving your business.\n",
      "\n",
      "With my assistance, you can design and refine your business processes using the standardized BPMN notation. I can help you:\n",
      "\n",
      "* Create new BPMN diagrams from scratch\n",
      "* Refine existing models to make them more efficient\n",
      "* Model complex business processes into easy-to-understand diagrams\n",
      "* Identify areas for improvement and optimize your workflows\n",
      "\n",
      "I'm here to provide guidance, answer questions, and offer suggestions to make your process modeling experience smooth and enjoyable. So, what's your business process challenge? Let's get started and create something amazing together!\n"
     ]
    }
   ],
   "source": [
    "# input_message = HumanMessage(content=\"hi! I'm bob\")\n",
    "# input_message.pretty_print()\n",
    "# for event in app.stream({\"messages\": [input_message]}, config, stream_mode=\"updates\"):\n",
    "    # print_update(event)\n",
    "\n",
    "input_message = HumanMessage(content=\"What is the radius of the earth?\")\n",
    "input_message.pretty_print()\n",
    "for event in app.stream({\"messages\": [input_message]}, config, stream_mode=\"updates\"):\n",
    "    print_update(event)\n",
    "\n",
    "# input_message = HumanMessage(content=\"\")\n",
    "# input_message.pretty_print()\n",
    "# for event in app.stream({\"messages\": [input_message]}, config, stream_mode=\"updates\"):\n",
    "#     print_update(event)\n",
    "\n",
    "# input_message = HumanMessage(content=\"I like to code in Javascript, now im learning langchain & langgraph\")\n",
    "# input_message.pretty_print()\n",
    "# for event in app.stream({\"messages\": [input_message]}, config, stream_mode=\"updates\"):\n",
    "#     print_update(event)"
   ]
  },
  {
   "cell_type": "code",
   "execution_count": 129,
   "metadata": {},
   "outputs": [
    {
     "name": "stdout",
     "output_type": "stream",
     "text": [
      "\n",
      "Channel Values:\n",
      "\n",
      "messages:\n",
      "================================\u001b[1m Human Message \u001b[0m=================================\n",
      "\n",
      "hi! I'm bob\n",
      "================================\u001b[1m System Message \u001b[0m================================\n",
      "\n",
      "Message category: greeting\n",
      "==================================\u001b[1m Ai Message \u001b[0m==================================\n",
      "\n",
      "Hello there! I'm thrilled to meet you!\n",
      "\n",
      "I'm your BPMN process modeling assistant, here to help you create stunning BPMN diagrams and model your business processes with ease. Whether you're a seasoned pro or just starting out, I'm here to guide you through the process (pun intended!).\n",
      "\n",
      "With my assistance, you can:\n",
      "\n",
      "Create clear and concise BPMN diagrams that visualize your business processes\n",
      "Model complex workflows and identify areas for improvement\n",
      "Collaborate with your team and stakeholders to refine your processes\n",
      "Analyze and optimize your business operations for maximum efficiency\n",
      "\n",
      "So, what's on your mind? Do you have a process you'd like to model or a diagram you'd like to create? I'm all ears (or rather, all keyboard)! Let's get started and make your business processes shine!\n",
      "\n",
      "handler: handler\n"
     ]
    }
   ],
   "source": [
    "checkpoint_data = memory.get({\"configurable\": {\"thread_id\": \"2\"}})\n",
    "if checkpoint_data and \"channel_values\" in checkpoint_data:\n",
    "  print(\"\\nChannel Values:\")\n",
    "  for key, value in checkpoint_data[\"channel_values\"].items():\n",
    "    if isinstance(value, list):\n",
    "      print(f\"\\n{key}:\")\n",
    "      for item in value:\n",
    "        item.pretty_print()\n",
    "    else:\n",
    "      print(f\"\\n{key}: {value}\")"
   ]
  }
 ],
 "metadata": {
  "kernelspec": {
   "display_name": ".venv",
   "language": "python",
   "name": "python3"
  },
  "language_info": {
   "codemirror_mode": {
    "name": "ipython",
    "version": 3
   },
   "file_extension": ".py",
   "mimetype": "text/x-python",
   "name": "python",
   "nbconvert_exporter": "python",
   "pygments_lexer": "ipython3",
   "version": "3.12.7"
  }
 },
 "nbformat": 4,
 "nbformat_minor": 2
}
